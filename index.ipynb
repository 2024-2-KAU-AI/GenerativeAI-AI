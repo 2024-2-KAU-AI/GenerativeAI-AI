{
 "cells": [
  {
   "cell_type": "code",
   "execution_count": 64,
   "id": "aea02029-19ba-44c9-8da8-93eb7d2c2f9a",
   "metadata": {},
   "outputs": [
    {
     "name": "stdout",
     "output_type": "stream",
     "text": [
      "Running on local URL:  http://127.0.0.1:7892\n",
      "Running on public URL: https://5b51b7e50db7e32d39.gradio.live\n",
      "\n",
      "This share link expires in 72 hours. For free permanent hosting and GPU upgrades, run `gradio deploy` from Terminal to deploy to Spaces (https://huggingface.co/spaces)\n"
     ]
    },
    {
     "data": {
      "text/html": [
       "<div><iframe src=\"https://5b51b7e50db7e32d39.gradio.live\" width=\"100%\" height=\"500\" allow=\"autoplay; camera; microphone; clipboard-read; clipboard-write;\" frameborder=\"0\" allowfullscreen></iframe></div>"
      ],
      "text/plain": [
       "<IPython.core.display.HTML object>"
      ]
     },
     "metadata": {},
     "output_type": "display_data"
    },
    {
     "data": {
      "text/plain": []
     },
     "execution_count": 64,
     "metadata": {},
     "output_type": "execute_result"
    }
   ],
   "source": [
    "import gradio as gr\n",
    "\n",
    "def handle_text_query(text):\n",
    "    response = f\"질문에 대한 답변: {text}\"  # 실제로는 LLM 응답이 여기에 들어감\n",
    "    return response\n",
    "\n",
    "def handle_image_query(image, question):\n",
    "    image_analysis = \"이미지 분석 결과\"  # 이미지에서 필요한 정보를 추출하는 과정 추가\n",
    "    response = f\"이미지 기반 답변: {question}에 대한 설명입니다. {image_analysis}\"\n",
    "    return response\n",
    "\n",
    "def handle_pdf_query(pdf, question):\n",
    "    extracted_text = \"PDF 청크 예시\"  # PDF에서 청크를 추출하는 과정 추가\n",
    "    response = f\"PDF 기반 답변: {question}에 대한 설명입니다. 참고 정보: {extracted_text}\"\n",
    "    return response\n",
    "\n",
    "# CSS 스타일 정의\n",
    "custom_css = \"\"\"\n",
    "body {\n",
    "    background-color: #001f3f;  /* 남색 계열 배경 */\n",
    "    color: white;  /* 기본 텍스트 색상 */\n",
    "}\n",
    ".gradio-container {\n",
    "    background-color: #001f3f;  /* Gradio 내부 배경 색상 */\n",
    "    color: white;  /* Gradio 내부 텍스트 색상 */\n",
    "}\n",
    "h1, h2, h3, p {\n",
    "    color: white;  /* 제목과 문단 텍스트 색상 */\n",
    "}\n",
    "\"\"\"\n",
    "\n",
    "# 기존 플랫폼 페이지 정의\n",
    "def tutor_platform(back_to_main):\n",
    "    with gr.Column(visible=True) as platform:\n",
    "        gr.HTML(\"<h2>AI 교수님 튜터 플랫폼</h2>\")  # 제목을 HTML로 생성\n",
    "\n",
    "        with gr.Tab(\"텍스트\"):\n",
    "            text_input = gr.Textbox(label=\"질문 입력\")\n",
    "            text_button = gr.Button(\"질문하기\")\n",
    "            text_output = gr.Textbox(label=\"답변\")\n",
    "            text_button.click(handle_text_query, inputs=text_input, outputs=text_output)\n",
    "\n",
    "        with gr.Tab(\"이미지\"):\n",
    "            image_input = gr.Image(type=\"filepath\", label=\"이미지 업로드\")\n",
    "            image_question = gr.Textbox(label=\"이미지 관련 질문\")\n",
    "            image_button = gr.Button(\"질문하기\")\n",
    "            image_output = gr.Textbox(label=\"답변\")\n",
    "            image_button.click(handle_image_query, inputs=[image_input, image_question], outputs=image_output)\n",
    "\n",
    "        with gr.Tab(\"PDF\"):\n",
    "            pdf_input = gr.File(label=\"PDF 업로드\")\n",
    "            pdf_question = gr.Textbox(label=\"PDF 관련 질문\")\n",
    "            pdf_button = gr.Button(\"질문하기\")\n",
    "            pdf_output = gr.Textbox(label=\"답변\")\n",
    "            pdf_button.click(handle_pdf_query, inputs=[pdf_input, pdf_question], outputs=pdf_output)\n",
    "\n",
    "        gr.HTML(\"<h3>DID API 기반 영상 응답</h3>\")\n",
    "        gr.HTML(\"<p>AI가 생성한 답변을 교수님 캐릭터가 영상으로 설명합니다.</p>\")\n",
    "\n",
    "        # 뒤로가기 버튼 추가\n",
    "        back_button = gr.Button(\"메인화면으로 가기\")\n",
    "        back_button.click(\n",
    "            lambda: (gr.update(visible=False), gr.update(visible=True)),\n",
    "            None,\n",
    "            [platform, back_to_main]\n",
    "        )\n",
    "\n",
    "    return platform\n",
    "\n",
    "# 메인 페이지 정의\n",
    "with gr.Blocks(css=custom_css) as main_page:\n",
    "    with gr.Column(visible=True) as main_section:\n",
    "        gr.HTML(\"<h1>AI 튜터 플랫폼에 오신 것을 환영합니다!</h1>\")\n",
    "        gr.HTML(\"<p>AI 기술을 활용해 질문에 답하고, 더욱 효과적으로 학습할 수 있도록 돕는 플랫폼입니다.</p>\")\n",
    "        gr.Image(\"logo.png\", label=\"플랫폼 로고\")  # 로고 이미지 추가 (로고 파일 필요)\n",
    "        start_button = gr.Button(\"시작하기\")\n",
    "\n",
    "    with gr.Column(visible=False) as platform_section:\n",
    "        platform = tutor_platform(main_section)\n",
    "\n",
    "    # 시작하기 버튼 클릭 시 화면 전환\n",
    "    start_button.click(\n",
    "        lambda: (gr.update(visible=False), gr.update(visible=True)),\n",
    "        None,\n",
    "        [main_section, platform_section]\n",
    "    )\n",
    "\n",
    "main_page.launch(share=True)\n"
   ]
  },
  {
   "cell_type": "code",
   "execution_count": null,
   "id": "548eea70-c86f-47b3-81e8-bf127015b360",
   "metadata": {},
   "outputs": [],
   "source": []
  },
  {
   "cell_type": "code",
   "execution_count": null,
   "id": "34fd7766-e4e4-4025-b932-20ca3b0e0813",
   "metadata": {},
   "outputs": [],
   "source": []
  }
 ],
 "metadata": {
  "kernelspec": {
   "display_name": "gradioai",
   "language": "python",
   "name": "gradioai"
  },
  "language_info": {
   "codemirror_mode": {
    "name": "ipython",
    "version": 3
   },
   "file_extension": ".py",
   "mimetype": "text/x-python",
   "name": "python",
   "nbconvert_exporter": "python",
   "pygments_lexer": "ipython3",
   "version": "3.9.20"
  }
 },
 "nbformat": 4,
 "nbformat_minor": 5
}
