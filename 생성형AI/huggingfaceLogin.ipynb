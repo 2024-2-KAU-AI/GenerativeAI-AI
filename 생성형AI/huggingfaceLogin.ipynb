{
 "cells": [
  {
   "cell_type": "code",
   "execution_count": null,
   "metadata": {
    "vscode": {
     "languageId": "plaintext"
    }
   },
   "outputs": [],
   "source": [
    "from google.colab import drive\n",
    "import os\n",
    "from dotenv import load_dotenv\n",
    "import subprocess\n",
    "\n",
    "# Google Drive 마운트\n",
    "drive.mount('/content/drive')\n",
    "\n",
    "# .env 파일 경로 설정 (Drive 내 .env 위치에 따라 수정)\n",
    "dotenv_path = '/content/drive/My Drive/Colab Notebooks/생성형AI/.env'\n",
    "load_dotenv(dotenv_path)\n",
    "\n",
    "def login():\n",
    "    load_dotenv()\n",
    "\n",
    "    huggingface_token = os.getenv(\"HUGGINGFACE_TOKEN\")\n",
    "\n",
    "    if not huggingface_token:\n",
    "        raise ValueError(\"Huggingface token not found\")\n",
    "\n",
    "    try:\n",
    "        subprocess.run([\"huggingface-cli\", \"login\", \"--token\", huggingface_token],\n",
    "                       check=True,\n",
    "                       text=True,\n",
    "                       capture_output=True\n",
    "                       )\n",
    "    except subprocess.CalledProcessError as e:\n",
    "        print(e.stderr)\n",
    "        raise ValueError(\"Huggingface login failed\")"
   ]
  }
 ],
 "metadata": {
  "language_info": {
   "name": "python"
  }
 },
 "nbformat": 4,
 "nbformat_minor": 2
}
